{
 "cells": [
  {
   "cell_type": "markdown",
   "metadata": {},
   "source": [
    "<center>\n",
    "    <a href=\"https://www.aims-senegal.org/\" ><img src=\"aimssn_logo.png\" style=\"float:center; max-width: 600px; display: inline\" alt=\"IMSP\"/> </a>\n",
    "    </center>\n",
    "    \n",
    "#    <center> <b> <span style=\"color:orange;\" >  `Python for Scientific Computing and Software Engineering ` </span> </b></center>\n",
    "\n",
    "\n",
    "## <center> <b> <span style=\"color:orange;\"> An Initiation to Programming using Python (Init2Py) </span> </b></center>\n",
    "\n",
    "### <center> <b> <span style=\"color:blue;\"> Practicals: Variables, Types & Operations </span> </b></center>"
   ]
  },
  {
   "cell_type": "markdown",
   "metadata": {},
   "source": [
    "**Exercise 00:**  \n",
    "\n",
    "> 1. Declare a variable `firstname` and assign it a value.\n",
    "> 2. Declare a `lastname` variable and assign a value to it.\n",
    "> 3. Declare a `full_name` variable and assign it a value.\n",
    "> 4. Declare a `country` variable and assign it a value.\n",
    "> 5. Declare a variable `city` and assign it a value.\n",
    "> 6. Declare a `age` variable and assign it a value.\n",
    "> 7. Declare a variable `year` and assign it a value.\n",
    "> 8. Declare a variable `is_marrie` and assign it a value.\n",
    "> 9. Declare a variable `is_true` and assign it a value.\n",
    "\n",
    "> For each of the above variable, display the value it contains using the `print()` function.\n",
    "\n",
    "\n"
   ]
  },
  {
   "cell_type": "code",
   "execution_count": 2,
   "metadata": {},
   "outputs": [
    {
     "name": "stdout",
     "output_type": "stream",
     "text": [
      "elhadji mamadou\n",
      "mbaye\n",
      "elhadji mamadou mbaye\n",
      "senegal\n",
      "thies\n",
      "29\n",
      "2021\n",
      "False\n",
      "True\n"
     ]
    }
   ],
   "source": [
    "firstname = 'elhadji mamadou'\n",
    "lastname= 'mbaye'\n",
    "full_name= 'elhadji mamadou mbaye'\n",
    "country= 'senegal'\n",
    "city='thies'\n",
    "age='29'\n",
    "year='2021'\n",
    "is_marrie= False\n",
    "is_true = True\n",
    "print(firstname)\n",
    "print(lastname)\n",
    "print(full_name)\n",
    "print(country)\n",
    "print(city)\n",
    "print(age)\n",
    "print(year)\n",
    "print(is_marrie)\n",
    "print(is_true)"
   ]
  },
  {
   "cell_type": "markdown",
   "metadata": {},
   "source": [
    "**Exercise 01:** \n",
    "> Check the data type of all your variables using the built-in function `type()`.**\n"
   ]
  },
  {
   "cell_type": "code",
   "execution_count": 8,
   "metadata": {},
   "outputs": [
    {
     "data": {
      "text/plain": [
       "bool"
      ]
     },
     "execution_count": 8,
     "metadata": {},
     "output_type": "execute_result"
    }
   ],
   "source": [
    "type(firstname)\n",
    "type(lastname)\n",
    "type(full_name)\n",
    "type(country)\n",
    "type(city)\n",
    "type(age)\n",
    "type(year)\n",
    "type(is_marrie)\n",
    "type(is_true)"
   ]
  },
  {
   "cell_type": "markdown",
   "metadata": {},
   "source": [
    "**Exercise 02:** \n",
    "> Calculate the value of $y$ ($y = x^2 + 6x + 9$). Try using different values of $x$ and determine at what value of $x$ will $y$ be equal to 0.**"
   ]
  },
  {
   "cell_type": "code",
   "execution_count": 106,
   "metadata": {},
   "outputs": [
    {
     "name": "stdout",
     "output_type": "stream",
     "text": [
      "La solution est  -3\n"
     ]
    }
   ],
   "source": [
    "#Essayons avec des valeurs de x differents\n",
    "r=range(-5,5)\n",
    "for i in r:\n",
    "    y=i*i + 6*i +9\n",
    "    if y == 0:\n",
    "        print('La solution est ',i)\n",
    "        break\n",
    "else:\n",
    "        print('La solution n\\'est pas =',i)\n"
   ]
  },
  {
   "cell_type": "markdown",
   "metadata": {},
   "source": [
    "**Exercise 03:** \n",
    ">    \n",
    "     1. Declare your age as an integer variable\n",
    "     2. Declare your height as a float variable\n",
    "     3. Declare a variable that stores the base and height of a triangle. Calculate the area of this triangle (area = 0.5 x b x h).\n",
    "\n",
    "     "
   ]
  },
  {
   "cell_type": "code",
   "execution_count": 23,
   "metadata": {},
   "outputs": [
    {
     "data": {
      "text/plain": [
       "18.975"
      ]
     },
     "execution_count": 23,
     "metadata": {},
     "output_type": "execute_result"
    }
   ],
   "source": [
    "age = 29 #Declare your age as an integer variable\n",
    "height = 1.93 #Declare your height as a float variable\n",
    "height = 5.6\n",
    "base= 5.5\n",
    "area = 0.5*5.5*6.9\n",
    "area"
   ]
  },
  {
   "cell_type": "markdown",
   "metadata": {},
   "source": [
    "## *Tip: receiving input from the user *\n",
    "**To receive an input from the user, we use `input()`.**.\n",
    "\n",
    "**Example**\n",
    "Receive two numbers as input from the user and calculate their power:\n",
    "```python\n",
    "base = input(\"Enter a base: \")\n",
    "exponent = input(\"Enter an exponent: \")\n",
    "result = float(base) ** float(exponent)\n",
    "print(f \"{base} to the power of {exponent} = {result}\")\n",
    "```"
   ]
  },
  {
   "cell_type": "markdown",
   "metadata": {},
   "source": [
    "**Exercise 04:** \n",
    "> **Write a small code that asks the user to enter the side $a$, the side $b$ and the side $c$ of a triangle. Calculate the perimeter of the triangle (perimeter = a + b + c).**"
   ]
  },
  {
   "cell_type": "code",
   "execution_count": 48,
   "metadata": {},
   "outputs": [
    {
     "name": "stdout",
     "output_type": "stream",
     "text": [
      "Enter the first side value\n",
      "7\n",
      "Enter the second side value\n",
      "4\n",
      "Enter the third side value\n",
      "4\n",
      "perimetre = 15\n"
     ]
    }
   ],
   "source": [
    "print('Enter the first side value')\n",
    "a=int(input())\n",
    "print('Enter the second side value')\n",
    "b=int(input())\n",
    "print('Enter the third side value')\n",
    "c=int(input())\n",
    "perimetre= a+b+c #perimetre of triangle\n",
    "print('perimetre =',perimetre)"
   ]
  },
  {
   "cell_type": "markdown",
   "metadata": {},
   "source": [
    "**Exercise 05:** \n",
    "> **Obtain the length and width of a rectangle using the prompt. Calculate its `area`and its `perimeter`.**"
   ]
  },
  {
   "cell_type": "code",
   "execution_count": 31,
   "metadata": {},
   "outputs": [
    {
     "name": "stdout",
     "output_type": "stream",
     "text": [
      "the length of a rectangle\n",
      "8\n",
      "the widgh of a rectangle\n",
      "9\n",
      "the area is 72.0 and the perimeter is 34.0\n"
     ]
    }
   ],
   "source": [
    "print('the length of a rectangle')\n",
    "l = float(input())\n",
    "print('the widgh of a rectangle')\n",
    "w = float(input())\n",
    "#lets find the area and the perimeter\n",
    "area = l*w\n",
    "perimeter = (l+w)*2\n",
    "print('the area is',area,'and the perimeter is',perimeter)"
   ]
  },
  {
   "cell_type": "markdown",
   "metadata": {},
   "source": [
    "**Exercice 06:** \n",
    "> **Obtenez le rayon d'un cercle en utilisant l'invite. Calculez l'aire (aire = pi x r x r) et la circonférence (c = 2 x pi x r) où pi = 3,14.**"
   ]
  },
  {
   "cell_type": "code",
   "execution_count": 44,
   "metadata": {},
   "outputs": [
    {
     "name": "stdout",
     "output_type": "stream",
     "text": [
      "Donner le rayon dun cercle\n",
      "8\n",
      "aire du rectangle =  200.96\n",
      "circonference =  50.24\n"
     ]
    }
   ],
   "source": [
    "print('Donner le rayon dun cercle')\n",
    "r = input()\n",
    "r=float(r)\n",
    "#Calculons l'aire et la circonference\n",
    "pi=3.14\n",
    "aire= pi*r*r\n",
    "circ = 2*pi*r\n",
    "print('aire du rectangle en m carre = ',aire)\n",
    "print('circonference = ',circ)"
   ]
  },
  {
   "cell_type": "markdown",
   "metadata": {},
   "source": [
    "**Exercice 07:**\n",
    "> **Calculez la pente, l'ordonnée à l'origine en x et l'ordonnée à l'origine en $y$ de $y = 2x -2$.**"
   ]
  },
  {
   "cell_type": "code",
   "execution_count": 59,
   "metadata": {},
   "outputs": [
    {
     "name": "stdout",
     "output_type": "stream",
     "text": [
      "La pente est de = 2\n",
      "L'ordonnee a l'origine de x est de = 1\n",
      "L'ordonne a l'origine de y est de -2\n"
     ]
    }
   ],
   "source": [
    "print('La pente est de =',2)\n",
    "print('L\\'ordonnee a l\\'origine de x est de =',1)\n",
    "print('L\\'ordonne a l\\'origine de y est de',-2)"
   ]
  },
  {
   "cell_type": "markdown",
   "metadata": {},
   "source": [
    "**Exercice 08:** \n",
    "> **Rédigez un script qui demande à l'utilisateur d'entrer les heures et le taux horaire. Calculez la rémunération de la personne ?**"
   ]
  },
  {
   "cell_type": "code",
   "execution_count": 61,
   "metadata": {},
   "outputs": [
    {
     "name": "stdout",
     "output_type": "stream",
     "text": [
      "Donner votre nombre d'heures de travail de la semaine\n",
      "6\n",
      "Donner votre taux horaire\n",
      "5000\n",
      "le taux horaire est de =  120000.0\n"
     ]
    }
   ],
   "source": [
    "#Calcul de la renumeration pour un prof de td\n",
    "print('Donner votre nombre d\\'heures de travail de la semaine')\n",
    "h=float(input())\n",
    "print('Donner votre taux horaire')\n",
    "t=float(input())\n",
    "R=h*4*t\n",
    "print('le taux horaire est de = ',R)"
   ]
  },
  {
   "cell_type": "markdown",
   "metadata": {},
   "source": [
    "**Exercice 09:** \n",
    "> **Écrivez un script qui demande à l'utilisateur d'entrer le nombre d'années. Calculez le nombre de secondes qu'une personne peut vivre. Supposons qu'une personne puisse vivre cent ans.**"
   ]
  },
  {
   "cell_type": "code",
   "execution_count": 81,
   "metadata": {},
   "outputs": [
    {
     "name": "stdout",
     "output_type": "stream",
     "text": [
      "Veuillez entrer le nombre d'années\n",
      "89\n",
      "Le nombre de secondes en 89 ans est de 2806704000\n"
     ]
    }
   ],
   "source": [
    "print('Veuillez entrer le nombre d\\'années')\n",
    "A=int(input())\n",
    "#Dans 1 jour, il y a 24 heures. \n",
    "#Dans 1 heure, il y a 60 minutes.\n",
    "#Dans 1 minute, il y a 60 secondes.\n",
    "#Le calcul est simple : dans un an il y a 60 x 60 x 24 x 365 = 31 536 000 secondes\n",
    "S= 60*60*24*365*A\n",
    "print('Le nombre de secondes en',A,'ans est de',S)"
   ]
  },
  {
   "cell_type": "markdown",
   "metadata": {},
   "source": [
    "**Exercice 10:** \n",
    "> **Écrivez un script Python qui affiche le tableau suivant**\n",
    "\n",
    "    1 1 1 1 1\n",
    "    \n",
    "    2 1 2 4 8\n",
    "    \n",
    "    3 1 3 9 27\n",
    "    \n",
    "    4 1 4 16 64\n",
    "    \n",
    "    5 1 5 25 125"
   ]
  },
  {
   "cell_type": "code",
   "execution_count": 107,
   "metadata": {},
   "outputs": [
    {
     "name": "stdout",
     "output_type": "stream",
     "text": [
      "range(1, 6)\n",
      "range(1, 1)\n",
      "range(1, 6)\n",
      "range(1, 25, 3)\n",
      "range(1, 125, 8)\n"
     ]
    }
   ],
   "source": [
    "R=[range(1,6),range(1,1),range(1,6),range(1,25,3),range(1,125,8)]\n",
    "for i in R: \n",
    "    print(i)\n"
   ]
  },
  {
   "cell_type": "markdown",
   "metadata": {},
   "source": [
    "**Exercise 11:** \n",
    ">**Assign the variables `time` and `distance` with the values $6.892$ and $19.7$. Calculate and display the value of the speed. Improve the display by imposing a digit after the decimal point.**"
   ]
  },
  {
   "cell_type": "code",
   "execution_count": 66,
   "metadata": {},
   "outputs": [
    {
     "name": "stdout",
     "output_type": "stream",
     "text": [
      "The speed is =  2.858\n"
     ]
    }
   ],
   "source": [
    "time= 6.892\n",
    "distance= 19.7\n",
    "V=distance/time\n",
    "print('The speed is = ',round(V,3))"
   ]
  },
  {
   "cell_type": "markdown",
   "metadata": {},
   "source": [
    "**Exercice 12:** \n",
    "> **Écrire un programme qui, à partir de la saisie d’un rayon et d’une hauteur, calcule levolume d’un cône droit.**"
   ]
  },
  {
   "cell_type": "code",
   "execution_count": 68,
   "metadata": {},
   "outputs": [
    {
     "name": "stdout",
     "output_type": "stream",
     "text": [
      "Veuillez entrer la valeur d'un rayon\n",
      "4\n",
      "Veuillez entrer la hauteur\n",
      "8\n",
      "Le volume du cone droit est de = 535.893\n"
     ]
    }
   ],
   "source": [
    "pi=3.14\n",
    "print('Veuillez entrer la valeur d\\'un rayon')\n",
    "ra= float(input())\n",
    "print('Veuillez entrer la hauteur')\n",
    "ha= float(input())\n",
    "B = pi*r*r\n",
    "V = B*ha/3\n",
    "print('Le volume du cone droit est de =',round(V,2))"
   ]
  },
  {
   "cell_type": "markdown",
   "metadata": {},
   "source": [
    "**Exercise 13:** \n",
    "> **The user gives a positive integer and the program announces how many times in a row this integer is divisible by 2.**"
   ]
  },
  {
   "cell_type": "code",
   "execution_count": 110,
   "metadata": {},
   "outputs": [
    {
     "data": {
      "text/plain": [
       "False"
      ]
     },
     "execution_count": 110,
     "metadata": {},
     "output_type": "execute_result"
    }
   ],
   "source": []
  },
  {
   "cell_type": "markdown",
   "metadata": {},
   "source": [
    "**Exercise 14:** \n",
    ">**The user gives an integer between 2 and 12, the program gives the number of ways to do this by rolling two dice."
   ]
  },
  {
   "cell_type": "code",
   "execution_count": 122,
   "metadata": {
    "scrolled": true
   },
   "outputs": [
    {
     "name": "stdout",
     "output_type": "stream",
     "text": [
      "Veuillez entrer en nombre entre 2 et 12\n",
      "6\n",
      "0.6753010918084437\n",
      "0.4263352744462451\n"
     ]
    }
   ],
   "source": [
    "import random\n",
    "print('Veuillez entrer en nombre entre 2 et 12')\n",
    "num=input()\n",
    "a=random.random()\n",
    "b=random.random()\n",
    "while num ==a+b:\n",
    "    print(a)\n",
    "    print(b)\n",
    "else: \n",
    "    a=random.random()\n",
    "    b=random.random()\n",
    "    print(a)\n",
    "    print(b)\n",
    "    "
   ]
  },
  {
   "cell_type": "markdown",
   "metadata": {},
   "source": [
    "**Exercice 15:** \n",
    "> **Utilisez la fonction d'entrée intégrée `input()` pour obtenir le `_prénom_`, le `_nom_`, le `_pays_d_origine` et l'`_age_` d'un utilisateur et stockez la valeur dans les noms des variables correspondantes.**"
   ]
  },
  {
   "cell_type": "code",
   "execution_count": 71,
   "metadata": {},
   "outputs": [
    {
     "name": "stdout",
     "output_type": "stream",
     "text": [
      "Veuillez saisir votre prenom\n",
      "g\n",
      "Veuillez entrer votre nom\n",
      "f\n",
      "Veuillez entrer votre pays d'origine\n",
      "g\n",
      "Veuillez donner votre age\n",
      "4\n"
     ]
    }
   ],
   "source": [
    "print ('Veuillez saisir votre prenom')\n",
    "firstname=input()\n",
    "print('Veuillez entrer votre nom')\n",
    "lastname=input()\n",
    "print('Veuillez entrer votre pays d\\'origine')\n",
    "country=input()\n",
    "print('Veuillez donner votre age')\n",
    "age=int(input())"
   ]
  },
  {
   "cell_type": "markdown",
   "metadata": {},
   "source": [
    "**Exercice 16:** \n",
    "\n",
    "**Déclarer $5$ comme `num_one` et $4$ comme `num_two`**\n",
    "\n",
    "   1. Additionner `num_one` et `num_two` et affecter la valeur à une variable `totale`.\n",
    "   2. Soustraire `num_two` de `num_one` et affecter la valeur à une variable `diff`.\n",
    "   3. Multipliez le `num_one` et le `num_two` et attribuez la valeur à une variable `produit`.\n",
    "   4. Divisez le `num_one` par le `num_two` et attribuez la valeur à une variable `division`.\n",
    "   5. Calculez `num_one` à la puissance de `num_two` et attribuez la valeur à une variable `exp`."
   ]
  },
  {
   "cell_type": "code",
   "execution_count": 79,
   "metadata": {},
   "outputs": [
    {
     "data": {
      "text/plain": [
       "625"
      ]
     },
     "execution_count": 79,
     "metadata": {},
     "output_type": "execute_result"
    }
   ],
   "source": [
    "from __future__ import division\n",
    "num_one=5\n",
    "num_two=4\n",
    "totale = num_two + num_one\n",
    "totale\n",
    "diff = num_one - num_two\n",
    "diff\n",
    "produit=num_one*num_two\n",
    "produit\n",
    "division=num_one/num_two\n",
    "division\n",
    "exp= pow(num_one,num_two)\n",
    "exp\n",
    "\n",
    "\n",
    "\n"
   ]
  },
  {
   "cell_type": "markdown",
   "metadata": {},
   "source": [
    "<center> <b> <span style=\"color:orange;\"> 🎉 FÉLICITATIONS! / CONGRATULATIONS! 🎉 </span> </b></center>"
   ]
  }
 ],
 "metadata": {
  "kernelspec": {
   "display_name": "Python 3",
   "language": "python",
   "name": "python3"
  },
  "language_info": {
   "codemirror_mode": {
    "name": "ipython",
    "version": 3
   },
   "file_extension": ".py",
   "mimetype": "text/x-python",
   "name": "python",
   "nbconvert_exporter": "python",
   "pygments_lexer": "ipython3",
   "version": "3.7.3"
  }
 },
 "nbformat": 4,
 "nbformat_minor": 5
}
